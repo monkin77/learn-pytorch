{
 "cells": [
  {
   "cell_type": "markdown",
   "metadata": {},
   "source": [
    "# Build simple Neural Network"
   ]
  },
  {
   "cell_type": "markdown",
   "metadata": {},
   "source": [
    "Build the neural network: https://pytorch.org/tutorials/beginner/basics/buildmodel_tutorial.html\n",
    "\n",
    "This script demonstrates how to build a simple neural network using PyTorch.\n",
    "In this case, we will train a network to classify images from the Fashion MNIST dataset."
   ]
  },
  {
   "cell_type": "code",
   "execution_count": 1,
   "metadata": {},
   "outputs": [],
   "source": [
    "import os\n",
    "import torch\n",
    "from torch import nn\n",
    "from torch.utils.data import DataLoader\n",
    "from torchvision import datasets, transforms"
   ]
  },
  {
   "cell_type": "markdown",
   "metadata": {},
   "source": [
    "### Get device for training"
   ]
  },
  {
   "cell_type": "code",
   "execution_count": 2,
   "metadata": {},
   "outputs": [
    {
     "name": "stdout",
     "output_type": "stream",
     "text": [
      "Using cuda device\n",
      "\n"
     ]
    }
   ],
   "source": [
    "device = torch.accelerator.current_accelerator().type if torch.accelerator.is_available() else \"cpu\"\n",
    "print(f\"Using {device} device\\n\")\n"
   ]
  },
  {
   "cell_type": "code",
   "execution_count": 3,
   "metadata": {},
   "outputs": [],
   "source": [
    "'''\n",
    "Define the Neural Network Class that inherit from nn.Module\n",
    "'''\n",
    "class NeuralNetwork(nn.Module):\n",
    "    def __init__(self):\n",
    "        super().__init__()  # Call the parent class constructor\n",
    "\n",
    "        # Define the layers of the neural network\n",
    "        self.flatten = nn.Flatten()\n",
    "        self.linear_relu_stack = nn.Sequential(\n",
    "            nn.Linear(28*28, 512),  # Input layer\n",
    "            nn.ReLU(),             # Activation function #1\n",
    "            nn.Linear(512, 512),   # Hidden layer\n",
    "            nn.ReLU(),             # Activation function #2\n",
    "            nn.Linear(512, 10),    # Output layer\n",
    "        )\n",
    "\n",
    "    def forward(self, x):\n",
    "        '''\n",
    "        Define the forward pass of the neural network, i.e., how the input data flows through the network\n",
    "        --------\n",
    "        Parameters:\n",
    "        x : torch.Tensor\n",
    "            Input data (batch of images)\n",
    "        -------\n",
    "        Returns:\n",
    "        torch.Tensor\n",
    "            Output data (predictions)\n",
    "        '''\n",
    "        x = self.flatten(x) # Flatten the input data into a 1D tensor\n",
    "\n",
    "        # Logits are the raw output scores from the network before applying softmax\n",
    "        logits = self.linear_relu_stack(x) # Pass the data through the layers\n",
    "\n",
    "        return logits # Return the output data"
   ]
  },
  {
   "cell_type": "markdown",
   "metadata": {},
   "source": [
    "### Create an instance of the neural network and move it to the device\n"
   ]
  },
  {
   "cell_type": "code",
   "execution_count": 4,
   "metadata": {},
   "outputs": [
    {
     "name": "stdout",
     "output_type": "stream",
     "text": [
      "NeuralNetwork(\n",
      "  (flatten): Flatten(start_dim=1, end_dim=-1)\n",
      "  (linear_relu_stack): Sequential(\n",
      "    (0): Linear(in_features=784, out_features=512, bias=True)\n",
      "    (1): ReLU()\n",
      "    (2): Linear(in_features=512, out_features=512, bias=True)\n",
      "    (3): ReLU()\n",
      "    (4): Linear(in_features=512, out_features=10, bias=True)\n",
      "  )\n",
      ")\n"
     ]
    }
   ],
   "source": [
    "model = NeuralNetwork().to(device)  \n",
    "print(model)  # Print the model architecture"
   ]
  },
  {
   "cell_type": "markdown",
   "metadata": {},
   "source": [
    "### Pass a random input through the model to test it"
   ]
  },
  {
   "cell_type": "code",
   "execution_count": 7,
   "metadata": {},
   "outputs": [
    {
     "name": "stdout",
     "output_type": "stream",
     "text": [
      "logits: tensor([[ 0.0294, -0.0777, -0.0191, -0.0095, -0.0175, -0.0071,  0.0227,  0.0506,\n",
      "         -0.0304,  0.0218]], device='cuda:0', grad_fn=<AddmmBackward0>)\n",
      "pred_prob: tensor([[0.1033, 0.0928, 0.0984, 0.0994, 0.0986, 0.0996, 0.1026, 0.1055, 0.0973,\n",
      "         0.1025]], device='cuda:0', grad_fn=<SoftmaxBackward0>)\n",
      "Predicted class: tensor([7], device='cuda:0')\n"
     ]
    }
   ],
   "source": [
    "# X Shape: (batch_size, height, width)\n",
    "X = torch.rand(1, 28, 28, device=device)  # Create a random input tensor\n",
    "\n",
    "# logits shape: (batch_size, num_classes)\n",
    "logits = model(X)   # Pass the input through the model\n",
    "print(f\"logits: {logits}\")  # Print the raw output scores\n",
    "\n",
    "# pred_prob shape: (batch_size, num_classes)\n",
    "pred_prob = nn.Softmax(dim=1)(logits)   # Apply softmax to get probabilities\n",
    "print(f\"pred_prob: {pred_prob}\")  # Print the predicted probabilities\n",
    "\n",
    "# pred_prob shape: (batch_size,)\n",
    "# Gets the index of the class with the highest probability\n",
    "y_pred = pred_prob.argmax(1)  # Get the predicted class index\n",
    "print(f\"Predicted class: {y_pred}\")"
   ]
  },
  {
   "cell_type": "markdown",
   "metadata": {},
   "source": [
    "### Break down the Layers in this FashionMNIST model"
   ]
  },
  {
   "cell_type": "code",
   "execution_count": 8,
   "metadata": {},
   "outputs": [
    {
     "name": "stdout",
     "output_type": "stream",
     "text": [
      "torch.Size([3, 28, 28])\n"
     ]
    }
   ],
   "source": [
    "# Create a simple Minibatch of 3 images of size 28x28\n",
    "input_img = torch.rand(3, 28, 28)  # Create a random input image\n",
    "print(input_img.size())"
   ]
  },
  {
   "cell_type": "markdown",
   "metadata": {},
   "source": [
    "#### `nn.Flatten`\n",
    "Convert each 2D 28x28 image into a contiguous array of 784 pixel values. The minibatch dimension at dim=0 is maintained."
   ]
  },
  {
   "cell_type": "code",
   "execution_count": 9,
   "metadata": {},
   "outputs": [
    {
     "name": "stdout",
     "output_type": "stream",
     "text": [
      "torch.Size([3, 784])\n"
     ]
    }
   ],
   "source": [
    "flatten = nn.Flatten()\n",
    "flat_img = flatten(input_img)  # Flatten the input image\n",
    "print(flat_img.size())  # Print the size of the flattened image"
   ]
  },
  {
   "cell_type": "markdown",
   "metadata": {},
   "source": [
    "#### `nn.Linear`\n",
    "The linear layer applies a linear transformation on the input using its stored weights and biases."
   ]
  },
  {
   "cell_type": "code",
   "execution_count": 10,
   "metadata": {},
   "outputs": [
    {
     "name": "stdout",
     "output_type": "stream",
     "text": [
      "torch.Size([3, 20])\n"
     ]
    }
   ],
   "source": [
    "layer1 = nn.Linear(in_features=28*28, out_features=20)\n",
    "hidden1 = layer1(flat_img)  # Pass the flattened image through the first layer\n",
    "print(hidden1.size())  # Print the size of the output from the first layer"
   ]
  },
  {
   "cell_type": "markdown",
   "metadata": {},
   "source": [
    "#### `nn.RelU`\n",
    "Non-linear activations are what create the complex mappings between the model's inputs and outputs. They are applied after each linear transformation to introduce non-linearity, helping *NNs* learn a wide variety of phenomena.\n",
    "\n",
    "In this example, we use the ReLU activation function, which is defined as:\n",
    "$f(x) = max(0, x)$\n",
    "\n",
    "However, there are many other activation functions available in PyTorch, such as Sigmoid, Tanh, and Softmax."
   ]
  },
  {
   "cell_type": "code",
   "execution_count": 11,
   "metadata": {},
   "outputs": [
    {
     "name": "stdout",
     "output_type": "stream",
     "text": [
      "Before ReLU: tensor([[ 0.0499, -0.1482, -0.1505, -0.5916,  0.1293, -0.6092,  0.1681, -0.2550,\n",
      "         -0.5491, -0.2488, -0.3891, -0.1776,  0.3471,  0.1496, -0.3765,  0.0129,\n",
      "         -0.1207,  0.0455, -0.3863, -0.1577],\n",
      "        [ 0.2076, -0.3712, -0.0198, -0.4936, -0.4130, -0.4532,  0.5078, -0.3953,\n",
      "         -0.8068, -0.1551, -0.6726, -0.8051,  0.7614, -0.0762, -0.1813, -0.2228,\n",
      "          0.0135, -0.1229, -0.6482,  0.2798],\n",
      "        [ 0.2676, -0.0479, -0.2583, -0.2283,  0.0872, -0.6923,  0.3567, -0.5788,\n",
      "         -0.9188, -0.4029, -0.3801, -0.5342,  0.3593, -0.4055, -0.4157,  0.0733,\n",
      "         -0.0943, -0.1593, -0.3489, -0.2983]], grad_fn=<AddmmBackward0>)\n",
      "\n",
      "After ReLU: tensor([[0.0499, 0.0000, 0.0000, 0.0000, 0.1293, 0.0000, 0.1681, 0.0000, 0.0000,\n",
      "         0.0000, 0.0000, 0.0000, 0.3471, 0.1496, 0.0000, 0.0129, 0.0000, 0.0455,\n",
      "         0.0000, 0.0000],\n",
      "        [0.2076, 0.0000, 0.0000, 0.0000, 0.0000, 0.0000, 0.5078, 0.0000, 0.0000,\n",
      "         0.0000, 0.0000, 0.0000, 0.7614, 0.0000, 0.0000, 0.0000, 0.0135, 0.0000,\n",
      "         0.0000, 0.2798],\n",
      "        [0.2676, 0.0000, 0.0000, 0.0000, 0.0872, 0.0000, 0.3567, 0.0000, 0.0000,\n",
      "         0.0000, 0.0000, 0.0000, 0.3593, 0.0000, 0.0000, 0.0733, 0.0000, 0.0000,\n",
      "         0.0000, 0.0000]], grad_fn=<ReluBackward0>)\n"
     ]
    }
   ],
   "source": [
    "print(f\"Before ReLU: {hidden1}\\n\")\n",
    "hidden1 = nn.ReLU()(hidden1)  # Apply ReLU activation function\n",
    "print(f\"After ReLU: {hidden1}\")"
   ]
  },
  {
   "cell_type": "markdown",
   "metadata": {},
   "source": [
    "#### `nn.Sequential`\n",
    "`nn.Sequential` is an ordered container of modules. The data is passed through all the modules in the same order as defined."
   ]
  },
  {
   "cell_type": "code",
   "execution_count": 12,
   "metadata": {},
   "outputs": [],
   "source": [
    "seq_modules = nn.Sequential(\n",
    "    flatten, layer1, nn.ReLU(), nn.Linear(20, 10)\n",
    ")\n",
    "input_img = torch.rand(3, 28, 28)  # Create a random input image\n",
    "logits = seq_modules(input_img)  # Pass the input through the sequential model"
   ]
  },
  {
   "cell_type": "markdown",
   "metadata": {},
   "source": [
    "#### `nn.Softmax`\n",
    "The last linear layer of the *NN* returns logits -- raw values in the range of $(-\\infty, \\infty)$. To convert these logits into probabilities, we apply the softmax function. The softmax function is defined as:\n",
    "$$\n",
    "softmax(x_i) = \\frac{e^{x_i}}{\\sum_{j=1}^{K} e^{x_j}}$$\n",
    "where $K$ is the number of classes and $x_i$ is the logit for class $i$. \n",
    "\n",
    "The softmax function normalizes the logits into a probability distribution over the classes, ensuring that the sum of all probabilities equals 1."
   ]
  },
  {
   "cell_type": "code",
   "execution_count": 15,
   "metadata": {},
   "outputs": [
    {
     "name": "stdout",
     "output_type": "stream",
     "text": [
      "Predicted probabilities: tensor([[0.1222, 0.1069, 0.0824, 0.1375, 0.0820, 0.0881, 0.1000, 0.0850, 0.1014,\n",
      "         0.0946],\n",
      "        [0.1242, 0.0998, 0.0753, 0.1422, 0.0821, 0.0944, 0.1005, 0.0951, 0.0971,\n",
      "         0.0893],\n",
      "        [0.1251, 0.1019, 0.0872, 0.1273, 0.0846, 0.1005, 0.0975, 0.0843, 0.1036,\n",
      "         0.0879]], grad_fn=<SoftmaxBackward0>)\n",
      "Sum of probs for each image: tensor([1.0000, 1.0000, 1.0000], grad_fn=<SumBackward1>)\n"
     ]
    }
   ],
   "source": [
    "softmax = nn.Softmax(dim=1) # Define softmax layer\n",
    "pred_prob = softmax(logits)  # Apply softmax to get probabilities\n",
    "print(f\"Predicted probabilities: {pred_prob}\")  # Print the predicted probabilities\n",
    "print(f\"Sum of probs for each image: {pred_prob.sum(dim=1)}\")  # Print the sum of probabilities for each image"
   ]
  },
  {
   "cell_type": "markdown",
   "metadata": {},
   "source": [
    "### Model Parameters"
   ]
  },
  {
   "cell_type": "code",
   "execution_count": 16,
   "metadata": {},
   "outputs": [
    {
     "name": "stdout",
     "output_type": "stream",
     "text": [
      "Model structure: NeuralNetwork(\n",
      "  (flatten): Flatten(start_dim=1, end_dim=-1)\n",
      "  (linear_relu_stack): Sequential(\n",
      "    (0): Linear(in_features=784, out_features=512, bias=True)\n",
      "    (1): ReLU()\n",
      "    (2): Linear(in_features=512, out_features=512, bias=True)\n",
      "    (3): ReLU()\n",
      "    (4): Linear(in_features=512, out_features=10, bias=True)\n",
      "  )\n",
      ")\n",
      "\n",
      "\n",
      "Layer: linear_relu_stack.0.weight | Size: torch.Size([512, 784]) | Values: tensor([[-0.0178,  0.0171,  0.0287,  ...,  0.0027, -0.0306, -0.0193],\n",
      "        [ 0.0144, -0.0280, -0.0281,  ..., -0.0159,  0.0232,  0.0346]],\n",
      "       device='cuda:0', grad_fn=<SliceBackward0>) \n",
      "\n",
      "Layer: linear_relu_stack.0.bias | Size: torch.Size([512]) | Values: tensor([ 0.0236, -0.0293], device='cuda:0', grad_fn=<SliceBackward0>) \n",
      "\n",
      "Layer: linear_relu_stack.2.weight | Size: torch.Size([512, 512]) | Values: tensor([[-0.0071, -0.0361,  0.0435,  ..., -0.0114,  0.0295, -0.0391],\n",
      "        [-0.0044,  0.0296, -0.0325,  ...,  0.0058,  0.0262,  0.0212]],\n",
      "       device='cuda:0', grad_fn=<SliceBackward0>) \n",
      "\n",
      "Layer: linear_relu_stack.2.bias | Size: torch.Size([512]) | Values: tensor([-0.0058, -0.0407], device='cuda:0', grad_fn=<SliceBackward0>) \n",
      "\n",
      "Layer: linear_relu_stack.4.weight | Size: torch.Size([10, 512]) | Values: tensor([[ 0.0073, -0.0126, -0.0242,  ..., -0.0164, -0.0269, -0.0320],\n",
      "        [-0.0254, -0.0061,  0.0023,  ..., -0.0302,  0.0058,  0.0302]],\n",
      "       device='cuda:0', grad_fn=<SliceBackward0>) \n",
      "\n",
      "Layer: linear_relu_stack.4.bias | Size: torch.Size([10]) | Values: tensor([0.0335, 0.0151], device='cuda:0', grad_fn=<SliceBackward0>) \n",
      "\n"
     ]
    }
   ],
   "source": [
    "print(f\"Model structure: {model}\\n\\n\")\n",
    "\n",
    "for name, param in model.named_parameters():\n",
    "    print(f\"Layer: {name} | Size: {param.size()} | Values: {param[:2]} \\n\")"
   ]
  },
  {
   "cell_type": "markdown",
   "metadata": {},
   "source": [
    "print()"
   ]
  }
 ],
 "metadata": {
  "kernelspec": {
   "display_name": ".venv",
   "language": "python",
   "name": "python3"
  },
  "language_info": {
   "codemirror_mode": {
    "name": "ipython",
    "version": 3
   },
   "file_extension": ".py",
   "mimetype": "text/x-python",
   "name": "python",
   "nbconvert_exporter": "python",
   "pygments_lexer": "ipython3",
   "version": "3.10.12"
  }
 },
 "nbformat": 4,
 "nbformat_minor": 2
}
