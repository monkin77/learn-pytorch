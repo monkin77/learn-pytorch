{
 "cells": [
  {
   "cell_type": "markdown",
   "metadata": {},
   "source": [
    "# Save and Load a Neural Network Model\n",
    "In this notebook, we will demonstrate how to persist a model state with `saving`, `loading`, and `running` model predictions."
   ]
  },
  {
   "cell_type": "code",
   "execution_count": 1,
   "metadata": {},
   "outputs": [],
   "source": [
    "import torch\n",
    "import torchvision.models as models"
   ]
  },
  {
   "cell_type": "markdown",
   "metadata": {},
   "source": [
    "## Saving Model Weights\n",
    "`PyTorch` stores the learned parameters in an internal state dictionary, called `state_dict`. These can be persisted via the `torch.save` method."
   ]
  },
  {
   "cell_type": "code",
   "execution_count": 8,
   "metadata": {},
   "outputs": [
    {
     "name": "stdout",
     "output_type": "stream",
     "text": [
      "VGG(\n",
      "  (features): Sequential(\n",
      "    (0): Conv2d(3, 64, kernel_size=(3, 3), stride=(1, 1), padding=(1, 1))\n",
      "    (1): ReLU(inplace=True)\n",
      "    (2): Conv2d(64, 64, kernel_size=(3, 3), stride=(1, 1), padding=(1, 1))\n",
      "    (3): ReLU(inplace=True)\n",
      "    (4): MaxPool2d(kernel_size=2, stride=2, padding=0, dilation=1, ceil_mode=False)\n",
      "    (5): Conv2d(64, 128, kernel_size=(3, 3), stride=(1, 1), padding=(1, 1))\n",
      "    (6): ReLU(inplace=True)\n",
      "    (7): Conv2d(128, 128, kernel_size=(3, 3), stride=(1, 1), padding=(1, 1))\n",
      "    (8): ReLU(inplace=True)\n",
      "    (9): MaxPool2d(kernel_size=2, stride=2, padding=0, dilation=1, ceil_mode=False)\n",
      "    (10): Conv2d(128, 256, kernel_size=(3, 3), stride=(1, 1), padding=(1, 1))\n",
      "    (11): ReLU(inplace=True)\n",
      "    (12): Conv2d(256, 256, kernel_size=(3, 3), stride=(1, 1), padding=(1, 1))\n",
      "    (13): ReLU(inplace=True)\n",
      "    (14): Conv2d(256, 256, kernel_size=(3, 3), stride=(1, 1), padding=(1, 1))\n",
      "    (15): ReLU(inplace=True)\n",
      "    (16): MaxPool2d(kernel_size=2, stride=2, padding=0, dilation=1, ceil_mode=False)\n",
      "    (17): Conv2d(256, 512, kernel_size=(3, 3), stride=(1, 1), padding=(1, 1))\n",
      "    (18): ReLU(inplace=True)\n",
      "    (19): Conv2d(512, 512, kernel_size=(3, 3), stride=(1, 1), padding=(1, 1))\n",
      "    (20): ReLU(inplace=True)\n",
      "    (21): Conv2d(512, 512, kernel_size=(3, 3), stride=(1, 1), padding=(1, 1))\n",
      "    (22): ReLU(inplace=True)\n",
      "    (23): MaxPool2d(kernel_size=2, stride=2, padding=0, dilation=1, ceil_mode=False)\n",
      "    (24): Conv2d(512, 512, kernel_size=(3, 3), stride=(1, 1), padding=(1, 1))\n",
      "    (25): ReLU(inplace=True)\n",
      "    (26): Conv2d(512, 512, kernel_size=(3, 3), stride=(1, 1), padding=(1, 1))\n",
      "    (27): ReLU(inplace=True)\n",
      "    (28): Conv2d(512, 512, kernel_size=(3, 3), stride=(1, 1), padding=(1, 1))\n",
      "    (29): ReLU(inplace=True)\n",
      "    (30): MaxPool2d(kernel_size=2, stride=2, padding=0, dilation=1, ceil_mode=False)\n",
      "  )\n",
      "  (avgpool): AdaptiveAvgPool2d(output_size=(7, 7))\n",
      "  (classifier): Sequential(\n",
      "    (0): Linear(in_features=25088, out_features=4096, bias=True)\n",
      "    (1): ReLU(inplace=True)\n",
      "    (2): Dropout(p=0.5, inplace=False)\n",
      "    (3): Linear(in_features=4096, out_features=4096, bias=True)\n",
      "    (4): ReLU(inplace=True)\n",
      "    (5): Dropout(p=0.5, inplace=False)\n",
      "    (6): Linear(in_features=4096, out_features=1000, bias=True)\n",
      "  )\n",
      ")\n",
      "\n",
      "State Dictionary:\n",
      "features.0.weight: torch.Size([64, 3, 3, 3])\n",
      "features.0.bias: torch.Size([64])\n",
      "features.2.weight: torch.Size([64, 64, 3, 3])\n",
      "features.2.bias: torch.Size([64])\n",
      "features.5.weight: torch.Size([128, 64, 3, 3])\n",
      "features.5.bias: torch.Size([128])\n",
      "features.7.weight: torch.Size([128, 128, 3, 3])\n",
      "features.7.bias: torch.Size([128])\n",
      "features.10.weight: torch.Size([256, 128, 3, 3])\n",
      "features.10.bias: torch.Size([256])\n",
      "features.12.weight: torch.Size([256, 256, 3, 3])\n",
      "features.12.bias: torch.Size([256])\n",
      "features.14.weight: torch.Size([256, 256, 3, 3])\n",
      "features.14.bias: torch.Size([256])\n",
      "features.17.weight: torch.Size([512, 256, 3, 3])\n",
      "features.17.bias: torch.Size([512])\n",
      "features.19.weight: torch.Size([512, 512, 3, 3])\n",
      "features.19.bias: torch.Size([512])\n",
      "features.21.weight: torch.Size([512, 512, 3, 3])\n",
      "features.21.bias: torch.Size([512])\n",
      "features.24.weight: torch.Size([512, 512, 3, 3])\n",
      "features.24.bias: torch.Size([512])\n",
      "features.26.weight: torch.Size([512, 512, 3, 3])\n",
      "features.26.bias: torch.Size([512])\n",
      "features.28.weight: torch.Size([512, 512, 3, 3])\n",
      "features.28.bias: torch.Size([512])\n",
      "classifier.0.weight: torch.Size([4096, 25088])\n",
      "classifier.0.bias: torch.Size([4096])\n",
      "classifier.3.weight: torch.Size([4096, 4096])\n",
      "classifier.3.bias: torch.Size([4096])\n",
      "classifier.6.weight: torch.Size([1000, 4096])\n",
      "classifier.6.bias: torch.Size([1000])\n"
     ]
    }
   ],
   "source": [
    "# Load a pre-trained VGG16 model with ImageNet weights\n",
    "model = models.vgg16(weights='IMAGENET1K_V1')\n",
    "\n",
    "# Show the model architecture\n",
    "print(model)\n",
    "\n",
    "# Print the models' state dictionary\n",
    "print(\"\\nState Dictionary:\")\n",
    "for key, value in model.state_dict().items():\n",
    "    print(f\"{key}: {value.size()}\")"
   ]
  },
  {
   "cell_type": "code",
   "execution_count": 5,
   "metadata": {},
   "outputs": [],
   "source": [
    "# Save the model's state dictionary to a file\n",
    "torch.save(model.state_dict(), 'out/vgg16_weights.pth')"
   ]
  },
  {
   "cell_type": "markdown",
   "metadata": {},
   "source": [
    "## Loading Model Weights\n",
    "To load model weights, we need to create a model instance first, and then load the state dictionary into the model using the `load_state_dict` method."
   ]
  },
  {
   "cell_type": "code",
   "execution_count": null,
   "metadata": {},
   "outputs": [
    {
     "data": {
      "text/plain": [
       "VGG(\n",
       "  (features): Sequential(\n",
       "    (0): Conv2d(3, 64, kernel_size=(3, 3), stride=(1, 1), padding=(1, 1))\n",
       "    (1): ReLU(inplace=True)\n",
       "    (2): Conv2d(64, 64, kernel_size=(3, 3), stride=(1, 1), padding=(1, 1))\n",
       "    (3): ReLU(inplace=True)\n",
       "    (4): MaxPool2d(kernel_size=2, stride=2, padding=0, dilation=1, ceil_mode=False)\n",
       "    (5): Conv2d(64, 128, kernel_size=(3, 3), stride=(1, 1), padding=(1, 1))\n",
       "    (6): ReLU(inplace=True)\n",
       "    (7): Conv2d(128, 128, kernel_size=(3, 3), stride=(1, 1), padding=(1, 1))\n",
       "    (8): ReLU(inplace=True)\n",
       "    (9): MaxPool2d(kernel_size=2, stride=2, padding=0, dilation=1, ceil_mode=False)\n",
       "    (10): Conv2d(128, 256, kernel_size=(3, 3), stride=(1, 1), padding=(1, 1))\n",
       "    (11): ReLU(inplace=True)\n",
       "    (12): Conv2d(256, 256, kernel_size=(3, 3), stride=(1, 1), padding=(1, 1))\n",
       "    (13): ReLU(inplace=True)\n",
       "    (14): Conv2d(256, 256, kernel_size=(3, 3), stride=(1, 1), padding=(1, 1))\n",
       "    (15): ReLU(inplace=True)\n",
       "    (16): MaxPool2d(kernel_size=2, stride=2, padding=0, dilation=1, ceil_mode=False)\n",
       "    (17): Conv2d(256, 512, kernel_size=(3, 3), stride=(1, 1), padding=(1, 1))\n",
       "    (18): ReLU(inplace=True)\n",
       "    (19): Conv2d(512, 512, kernel_size=(3, 3), stride=(1, 1), padding=(1, 1))\n",
       "    (20): ReLU(inplace=True)\n",
       "    (21): Conv2d(512, 512, kernel_size=(3, 3), stride=(1, 1), padding=(1, 1))\n",
       "    (22): ReLU(inplace=True)\n",
       "    (23): MaxPool2d(kernel_size=2, stride=2, padding=0, dilation=1, ceil_mode=False)\n",
       "    (24): Conv2d(512, 512, kernel_size=(3, 3), stride=(1, 1), padding=(1, 1))\n",
       "    (25): ReLU(inplace=True)\n",
       "    (26): Conv2d(512, 512, kernel_size=(3, 3), stride=(1, 1), padding=(1, 1))\n",
       "    (27): ReLU(inplace=True)\n",
       "    (28): Conv2d(512, 512, kernel_size=(3, 3), stride=(1, 1), padding=(1, 1))\n",
       "    (29): ReLU(inplace=True)\n",
       "    (30): MaxPool2d(kernel_size=2, stride=2, padding=0, dilation=1, ceil_mode=False)\n",
       "  )\n",
       "  (avgpool): AdaptiveAvgPool2d(output_size=(7, 7))\n",
       "  (classifier): Sequential(\n",
       "    (0): Linear(in_features=25088, out_features=4096, bias=True)\n",
       "    (1): ReLU(inplace=True)\n",
       "    (2): Dropout(p=0.5, inplace=False)\n",
       "    (3): Linear(in_features=4096, out_features=4096, bias=True)\n",
       "    (4): ReLU(inplace=True)\n",
       "    (5): Dropout(p=0.5, inplace=False)\n",
       "    (6): Linear(in_features=4096, out_features=1000, bias=True)\n",
       "  )\n",
       ")"
      ]
     },
     "execution_count": 9,
     "metadata": {},
     "output_type": "execute_result"
    }
   ],
   "source": [
    "model = models.vgg16()  # Initialize a new model instance\n",
    "\n",
    "model.load_state_dict(torch.load('out/vgg16_weights.pth',\n",
    "                                 weights_only=True  # Explicitly load only the weights\n",
    "                    ))  # Load the saved weights\n",
    "\n",
    "# Be sure to set the model to evaluation mode before inference to set the dropout and batch normalization layers to evaluation mode\n",
    "model.eval()  # Set the model to evaluation mode"
   ]
  },
  {
   "cell_type": "markdown",
   "metadata": {},
   "source": [
    "## Saving and Loading the Entire Model\n",
    "When loading model weights, we needed to instantiate the class first, since the class defines the structure of a Network.\n",
    "\n",
    "In case we want to save the entire model, i.e., the structure of the network together with the learned parameters, we can pass the `model` object instead of the `state_dict` to the `torch.save` method. This will save the entire model, including its architecture and parameters."
   ]
  },
  {
   "cell_type": "code",
   "execution_count": 10,
   "metadata": {},
   "outputs": [],
   "source": [
    "torch.save(model, 'out/vgg16_model.pth')  # Save the entire model"
   ]
  },
  {
   "cell_type": "code",
   "execution_count": 12,
   "metadata": {},
   "outputs": [],
   "source": [
    "# Load the entire model\n",
    "model = torch.load('out/vgg16_model.pth', weights_only=False)  # Load the entire model"
   ]
  },
  {
   "cell_type": "code",
   "execution_count": 13,
   "metadata": {},
   "outputs": [
    {
     "name": "stdout",
     "output_type": "stream",
     "text": [
      "\n",
      "Loaded Model Architecture:\n",
      "VGG(\n",
      "  (features): Sequential(\n",
      "    (0): Conv2d(3, 64, kernel_size=(3, 3), stride=(1, 1), padding=(1, 1))\n",
      "    (1): ReLU(inplace=True)\n",
      "    (2): Conv2d(64, 64, kernel_size=(3, 3), stride=(1, 1), padding=(1, 1))\n",
      "    (3): ReLU(inplace=True)\n",
      "    (4): MaxPool2d(kernel_size=2, stride=2, padding=0, dilation=1, ceil_mode=False)\n",
      "    (5): Conv2d(64, 128, kernel_size=(3, 3), stride=(1, 1), padding=(1, 1))\n",
      "    (6): ReLU(inplace=True)\n",
      "    (7): Conv2d(128, 128, kernel_size=(3, 3), stride=(1, 1), padding=(1, 1))\n",
      "    (8): ReLU(inplace=True)\n",
      "    (9): MaxPool2d(kernel_size=2, stride=2, padding=0, dilation=1, ceil_mode=False)\n",
      "    (10): Conv2d(128, 256, kernel_size=(3, 3), stride=(1, 1), padding=(1, 1))\n",
      "    (11): ReLU(inplace=True)\n",
      "    (12): Conv2d(256, 256, kernel_size=(3, 3), stride=(1, 1), padding=(1, 1))\n",
      "    (13): ReLU(inplace=True)\n",
      "    (14): Conv2d(256, 256, kernel_size=(3, 3), stride=(1, 1), padding=(1, 1))\n",
      "    (15): ReLU(inplace=True)\n",
      "    (16): MaxPool2d(kernel_size=2, stride=2, padding=0, dilation=1, ceil_mode=False)\n",
      "    (17): Conv2d(256, 512, kernel_size=(3, 3), stride=(1, 1), padding=(1, 1))\n",
      "    (18): ReLU(inplace=True)\n",
      "    (19): Conv2d(512, 512, kernel_size=(3, 3), stride=(1, 1), padding=(1, 1))\n",
      "    (20): ReLU(inplace=True)\n",
      "    (21): Conv2d(512, 512, kernel_size=(3, 3), stride=(1, 1), padding=(1, 1))\n",
      "    (22): ReLU(inplace=True)\n",
      "    (23): MaxPool2d(kernel_size=2, stride=2, padding=0, dilation=1, ceil_mode=False)\n",
      "    (24): Conv2d(512, 512, kernel_size=(3, 3), stride=(1, 1), padding=(1, 1))\n",
      "    (25): ReLU(inplace=True)\n",
      "    (26): Conv2d(512, 512, kernel_size=(3, 3), stride=(1, 1), padding=(1, 1))\n",
      "    (27): ReLU(inplace=True)\n",
      "    (28): Conv2d(512, 512, kernel_size=(3, 3), stride=(1, 1), padding=(1, 1))\n",
      "    (29): ReLU(inplace=True)\n",
      "    (30): MaxPool2d(kernel_size=2, stride=2, padding=0, dilation=1, ceil_mode=False)\n",
      "  )\n",
      "  (avgpool): AdaptiveAvgPool2d(output_size=(7, 7))\n",
      "  (classifier): Sequential(\n",
      "    (0): Linear(in_features=25088, out_features=4096, bias=True)\n",
      "    (1): ReLU(inplace=True)\n",
      "    (2): Dropout(p=0.5, inplace=False)\n",
      "    (3): Linear(in_features=4096, out_features=4096, bias=True)\n",
      "    (4): ReLU(inplace=True)\n",
      "    (5): Dropout(p=0.5, inplace=False)\n",
      "    (6): Linear(in_features=4096, out_features=1000, bias=True)\n",
      "  )\n",
      ")\n",
      "\n",
      "Loaded Model State Dictionary:\n",
      "features.0.weight: torch.Size([64, 3, 3, 3])\n",
      "features.0.bias: torch.Size([64])\n",
      "features.2.weight: torch.Size([64, 64, 3, 3])\n",
      "features.2.bias: torch.Size([64])\n",
      "features.5.weight: torch.Size([128, 64, 3, 3])\n",
      "features.5.bias: torch.Size([128])\n",
      "features.7.weight: torch.Size([128, 128, 3, 3])\n",
      "features.7.bias: torch.Size([128])\n",
      "features.10.weight: torch.Size([256, 128, 3, 3])\n",
      "features.10.bias: torch.Size([256])\n",
      "features.12.weight: torch.Size([256, 256, 3, 3])\n",
      "features.12.bias: torch.Size([256])\n",
      "features.14.weight: torch.Size([256, 256, 3, 3])\n",
      "features.14.bias: torch.Size([256])\n",
      "features.17.weight: torch.Size([512, 256, 3, 3])\n",
      "features.17.bias: torch.Size([512])\n",
      "features.19.weight: torch.Size([512, 512, 3, 3])\n",
      "features.19.bias: torch.Size([512])\n",
      "features.21.weight: torch.Size([512, 512, 3, 3])\n",
      "features.21.bias: torch.Size([512])\n",
      "features.24.weight: torch.Size([512, 512, 3, 3])\n",
      "features.24.bias: torch.Size([512])\n",
      "features.26.weight: torch.Size([512, 512, 3, 3])\n",
      "features.26.bias: torch.Size([512])\n",
      "features.28.weight: torch.Size([512, 512, 3, 3])\n",
      "features.28.bias: torch.Size([512])\n",
      "classifier.0.weight: torch.Size([4096, 25088])\n",
      "classifier.0.bias: torch.Size([4096])\n",
      "classifier.3.weight: torch.Size([4096, 4096])\n",
      "classifier.3.bias: torch.Size([4096])\n",
      "classifier.6.weight: torch.Size([1000, 4096])\n",
      "classifier.6.bias: torch.Size([1000])\n"
     ]
    }
   ],
   "source": [
    "# Print the loaded model's architecture\n",
    "print(\"\\nLoaded Model Architecture:\")\n",
    "print(model)\n",
    "# Print the loaded model's state dictionary\n",
    "print(\"\\nLoaded Model State Dictionary:\")\n",
    "for key, value in model.state_dict().items():\n",
    "    print(f\"{key}: {value.size()}\")\n"
   ]
  },
  {
   "cell_type": "markdown",
   "metadata": {},
   "source": []
  }
 ],
 "metadata": {
  "kernelspec": {
   "display_name": ".venv",
   "language": "python",
   "name": "python3"
  },
  "language_info": {
   "codemirror_mode": {
    "name": "ipython",
    "version": 3
   },
   "file_extension": ".py",
   "mimetype": "text/x-python",
   "name": "python",
   "nbconvert_exporter": "python",
   "pygments_lexer": "ipython3",
   "version": "3.10.12"
  }
 },
 "nbformat": 4,
 "nbformat_minor": 2
}
